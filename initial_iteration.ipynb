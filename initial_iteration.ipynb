{
 "cells": [
  {
   "cell_type": "code",
   "execution_count": 1,
   "metadata": {},
   "outputs": [],
   "source": [
    "import pandas as pd\n",
    "import numpy as np"
   ]
  },
  {
   "cell_type": "code",
   "execution_count": 2,
   "metadata": {},
   "outputs": [],
   "source": [
    "import random"
   ]
  },
  {
   "cell_type": "code",
   "execution_count": 6,
   "metadata": {},
   "outputs": [],
   "source": [
    "int_list = [f\"{random.randint(1,100)}*X+{random.randint(0,100)}\"for _ in range(100)]"
   ]
  },
  {
   "cell_type": "code",
   "execution_count": 7,
   "metadata": {},
   "outputs": [
    {
     "data": {
      "text/plain": [
       "['41*X+71',\n",
       " '57*X+0',\n",
       " '37*X+82',\n",
       " '47*X+97',\n",
       " '71*X+61',\n",
       " '23*X+12',\n",
       " '24*X+5',\n",
       " '56*X+98',\n",
       " '93*X+64',\n",
       " '89*X+14',\n",
       " '10*X+91',\n",
       " '32*X+8',\n",
       " '95*X+31',\n",
       " '42*X+74',\n",
       " '11*X+39',\n",
       " '70*X+90',\n",
       " '12*X+96',\n",
       " '57*X+79',\n",
       " '4*X+82',\n",
       " '54*X+10',\n",
       " '92*X+8',\n",
       " '23*X+97',\n",
       " '52*X+92',\n",
       " '24*X+83',\n",
       " '34*X+55',\n",
       " '87*X+21',\n",
       " '85*X+73',\n",
       " '87*X+23',\n",
       " '93*X+37',\n",
       " '58*X+64',\n",
       " '43*X+47',\n",
       " '65*X+16',\n",
       " '26*X+8',\n",
       " '47*X+72',\n",
       " '63*X+36',\n",
       " '36*X+100',\n",
       " '27*X+57',\n",
       " '11*X+28',\n",
       " '36*X+2',\n",
       " '81*X+95',\n",
       " '81*X+42',\n",
       " '55*X+83',\n",
       " '46*X+71',\n",
       " '86*X+69',\n",
       " '32*X+6',\n",
       " '15*X+59',\n",
       " '98*X+48',\n",
       " '57*X+27',\n",
       " '43*X+44',\n",
       " '50*X+30',\n",
       " '88*X+99',\n",
       " '83*X+85',\n",
       " '50*X+42',\n",
       " '29*X+79',\n",
       " '45*X+37',\n",
       " '91*X+31',\n",
       " '79*X+64',\n",
       " '53*X+88',\n",
       " '74*X+92',\n",
       " '53*X+19',\n",
       " '49*X+49',\n",
       " '2*X+32',\n",
       " '12*X+28',\n",
       " '36*X+95',\n",
       " '57*X+41',\n",
       " '40*X+42',\n",
       " '51*X+24',\n",
       " '73*X+33',\n",
       " '29*X+66',\n",
       " '69*X+45',\n",
       " '70*X+89',\n",
       " '94*X+65',\n",
       " '29*X+55',\n",
       " '20*X+40',\n",
       " '33*X+80',\n",
       " '54*X+31',\n",
       " '93*X+92',\n",
       " '46*X+25',\n",
       " '3*X+24',\n",
       " '20*X+30',\n",
       " '33*X+62',\n",
       " '87*X+9',\n",
       " '91*X+7',\n",
       " '60*X+93',\n",
       " '27*X+27',\n",
       " '31*X+10',\n",
       " '81*X+91',\n",
       " '6*X+57',\n",
       " '44*X+31',\n",
       " '60*X+44',\n",
       " '78*X+47',\n",
       " '71*X+5',\n",
       " '15*X+60',\n",
       " '13*X+15',\n",
       " '2*X+63',\n",
       " '11*X+32',\n",
       " '26*X+15',\n",
       " '7*X+13',\n",
       " '20*X+24',\n",
       " '49*X+38']"
      ]
     },
     "execution_count": 7,
     "metadata": {},
     "output_type": "execute_result"
    }
   ],
   "source": [
    "int_list"
   ]
  },
  {
   "cell_type": "code",
   "execution_count": null,
   "metadata": {},
   "outputs": [],
   "source": [
    "[-1,-2.6,8,9,-2,0,2,5,-9,5,-2]"
   ]
  }
 ],
 "metadata": {
  "kernelspec": {
   "display_name": "Python 3",
   "language": "python",
   "name": "python3"
  },
  "language_info": {
   "codemirror_mode": {
    "name": "ipython",
    "version": 3
   },
   "file_extension": ".py",
   "mimetype": "text/x-python",
   "name": "python",
   "nbconvert_exporter": "python",
   "pygments_lexer": "ipython3",
   "version": "3.9.6"
  },
  "orig_nbformat": 4
 },
 "nbformat": 4,
 "nbformat_minor": 2
}
